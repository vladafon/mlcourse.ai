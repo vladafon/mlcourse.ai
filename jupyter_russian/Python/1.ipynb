{
 "cells": [
  {
   "cell_type": "code",
   "execution_count": 26,
   "source": [
    "def balda(board, word : str):\r\n",
    "    result = False\r\n",
    "\r\n",
    "    #ищем все позиции в матрице, которые содержат первую букву слова\r\n",
    "\r\n",
    "    coordinates = []\r\n",
    "    letter = word[0]\r\n",
    "    for i in range(0,len(board)):\r\n",
    "        for j in range(0,len(board[i])):\r\n",
    "            if board[i][j] == letter:\r\n",
    "                coordinates.append([i,j])\r\n",
    "\r\n",
    "    letter_num = 1\r\n",
    "    for coordinate in coordinates:\r\n",
    "        print(word[0])\r\n",
    "        inner_res = deep_search(board, word, letter_num, coordinate, [])\r\n",
    "        if inner_res == True:\r\n",
    "            result = inner_res\r\n",
    "            break\r\n",
    "\r\n",
    "\r\n",
    "    return result\r\n",
    "\r\n",
    "\r\n",
    "def deep_search(board, word, letter_num, coordinate, already_passed_coordinates):\r\n",
    "\r\n",
    "    if (letter_num == len(word)):\r\n",
    "        return True\r\n",
    "\r\n",
    "    if coordinate in already_passed_coordinates:\r\n",
    "        return False\r\n",
    "\r\n",
    "    already_passed_coordinates.append([coordinate[0],coordinate[1]])\r\n",
    "\r\n",
    "    #смотрим 4 направления\r\n",
    "    left = [coordinate[0] - 1,coordinate[1]]\r\n",
    "    right = [coordinate[0] + 1,coordinate[1]]\r\n",
    "    up = [coordinate[0],coordinate[1] - 1]\r\n",
    "    down = [coordinate[0],coordinate[1] + 1]\r\n",
    "    \r\n",
    "    inner_res = False\r\n",
    "\r\n",
    "    if (min(left) >= 0) and left[0] < len(board) and left[1] < len(board[0]) and (board[left[0]][left[1]] == word[letter_num]):\r\n",
    "            print(word[letter_num])\r\n",
    "            inner_res = deep_search(board, word, letter_num+1, left, already_passed_coordinates)\r\n",
    "\r\n",
    "    if (min(right) >= 0) and right[0] < len(board) and right[1] < len(board[0]) and (board[right[0]][right[1]] == word[letter_num]):\r\n",
    "            print(word[letter_num])\r\n",
    "            inner_res = deep_search(board, word, letter_num+1, right, already_passed_coordinates)\r\n",
    "\r\n",
    "    if (min(up) >= 0) and up[0] < len(board) and up[1] < len(board[0]) and (board[up[0]][up[1]] == word[letter_num]):\r\n",
    "            print(word[letter_num])\r\n",
    "            inner_res = deep_search(board, word, letter_num+1, up, already_passed_coordinates)\r\n",
    "\r\n",
    "    if (min(down) >= 0) and down[0] < len(board) and down[1] < len(board[0]) and (board[down[0]][down[1]] == word[letter_num]):\r\n",
    "            print(word[letter_num])\r\n",
    "            inner_res = deep_search(board, word, letter_num+1, down, already_passed_coordinates)\r\n",
    "\r\n",
    "    return inner_res\r\n",
    "\r\n",
    "\r\n",
    "board = [[\"A\",\"B\",\"C\",\"E\"],\r\n",
    "        [\"S\",\"F\",\"C\",\"S\"],\r\n",
    "        [\"A\",\"D\",\"E\",\"E\"]]\r\n",
    "word = \"SAD\"\r\n",
    "\r\n",
    "balda(board, word)\r\n",
    "\r\n",
    "#Output: true\r\n",
    "#https://docs.python.org/3/tutorial/errors.html\r\n",
    "\r\n",
    "\r\n"
   ],
   "outputs": [
    {
     "output_type": "stream",
     "name": "stdout",
     "text": [
      "S\n",
      "A\n",
      "A\n",
      "D\n"
     ]
    },
    {
     "output_type": "execute_result",
     "data": {
      "text/plain": [
       "True"
      ]
     },
     "metadata": {},
     "execution_count": 26
    }
   ],
   "metadata": {}
  }
 ],
 "metadata": {
  "orig_nbformat": 4,
  "language_info": {
   "name": "python",
   "version": "3.8.5",
   "mimetype": "text/x-python",
   "codemirror_mode": {
    "name": "ipython",
    "version": 3
   },
   "pygments_lexer": "ipython3",
   "nbconvert_exporter": "python",
   "file_extension": ".py"
  },
  "kernelspec": {
   "name": "python3",
   "display_name": "Python 3.8.5 64-bit ('base': conda)"
  },
  "interpreter": {
   "hash": "b3ba2566441a7c06988d0923437866b63cedc61552a5af99d1f4fb67d367b25f"
  }
 },
 "nbformat": 4,
 "nbformat_minor": 2
}