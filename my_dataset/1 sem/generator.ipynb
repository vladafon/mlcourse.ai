{
 "cells": [
  {
   "cell_type": "code",
   "execution_count": 110,
   "source": [
    "import numpy as np\r\n",
    "from matplotlib import pyplot as plt\r\n",
    "import random as rand\r\n",
    "def base_generator(N):\r\n",
    "    a = 5**13\r\n",
    "    m = 2**31 + 1\r\n",
    "    x0 = rand.randint(111111111,999999999)\r\n",
    "\r\n",
    "    x = [x0]\r\n",
    "    r = [x0/m]\r\n",
    "    for i in range(1,N):\r\n",
    "        x.append((a*x[i-1]) % m)\r\n",
    "        r.append(x[i]/m)\r\n",
    "\r\n",
    "    return r\r\n",
    "\r\n",
    "\r\n",
    "def normal_distr_value(mu, sigma, N = 12):\r\n",
    "    r = base_generator(N)\r\n",
    "    return mu + (sigma*(sum(r) - N/2))/(np.sqrt(N/12))\r\n",
    "\r\n",
    "\r\n",
    "\r\n",
    "\r\n",
    "\r\n"
   ],
   "outputs": [
    {
     "output_type": "execute_result",
     "data": {
      "text/plain": [
       "(array([  87., 2200., 5885., 2879., 2288., 3015., 2359., 1017.,  239.,\n",
       "          31.]),\n",
       " array([-4.05654579, -2.51555541, -0.97456502,  0.56642536,  2.10741575,\n",
       "         3.64840613,  5.18939652,  6.7303869 ,  8.27137729,  9.81236767,\n",
       "        11.35335805]),\n",
       " <BarContainer object of 10 artists>)"
      ]
     },
     "metadata": {},
     "execution_count": 110
    },
    {
     "output_type": "display_data",
     "data": {
      "image/png": "[encoded data removed]",
      "text/plain": [
       "<Figure size 432x288 with 1 Axes>"
      ]
     },
     "metadata": {
      "needs_background": "light"
     }
    }
   ],
   "metadata": {}
  },
  {
   "cell_type": "code",
   "execution_count": 400,
   "source": [
    "\r\n",
    "\r\n",
    "# def get_dim_count(arr):\r\n",
    "#     q = 1\r\n",
    "#     if type(arr[0]) is int or type(arr[0]) is float:\r\n",
    "#         q = 1\r\n",
    "#     elif type(arr[0]) is tuple:\r\n",
    "#         q = len(arr[0])\r\n",
    "#     return q\r\n",
    "\r\n",
    "# def transform(arr):\r\n",
    "#     arr_new = []\r\n",
    "#     for i in arr:\r\n",
    "#         t = (i,)\r\n",
    "#         arr_new.append(t)\r\n",
    "#     return arr_new\r\n",
    "\r\n",
    "def norm(x,mu,sigma):\r\n",
    "    return (1/(sigma*np.sqrt(2*np.pi)))*np.exp(-((x-mu)**2)/(2*sigma**2))\r\n",
    "\r\n",
    "# метод, который определяет парметры распределений заданного набора числей, входящих в смесь распределений\r\n",
    "def EM_method(x,k,eps = 1e-10, tryes = 30, Qmax = 100):\r\n",
    "    g_delta = 1\r\n",
    "    g_w = np.zeros(k)\r\n",
    "    g_mu = np.zeros(k)\r\n",
    "    g_sigma = np.zeros(k)\r\n",
    "\r\n",
    "    for tr in range(tryes):\r\n",
    "        n = len(x)\r\n",
    "        g = np.random.rand(k,n)\r\n",
    "        w = np.random.rand(k)\r\n",
    "        mu = np.random.rand(k)\r\n",
    "        sigma = np.random.rand(k)\r\n",
    "\r\n",
    "        delta = 1\r\n",
    "        iter = 0\r\n",
    "        prev_delta = 2\r\n",
    "        prev_sigma = np.zeros(k)\r\n",
    "        prev_w = np.zeros(k)\r\n",
    "        prev_mu = np.zeros(k)\r\n",
    "\r\n",
    "        while delta >= eps and iter <= Qmax and delta < prev_delta:\r\n",
    "            prev_delta = delta\r\n",
    "            prev_mu = mu\r\n",
    "            prev_w = w\r\n",
    "            prev_sigma = sigma\r\n",
    "            iter += 1\r\n",
    "\r\n",
    "            #E step\r\n",
    "            g0 = g.copy()\r\n",
    "\r\n",
    "            for i in range(k):\r\n",
    "                for j in range(n):\r\n",
    "                    det = 0\r\n",
    "                    for v in range(k):\r\n",
    "                        det += w[v]*norm(x[j],mu[v],sigma[v])\r\n",
    "                    g[i][j] = w[i]*norm(x[j],mu[i],sigma[i])/det\r\n",
    "\r\n",
    "            delta = np.max(np.absolute(g0-g))\r\n",
    "\r\n",
    "            #M step\r\n",
    "            for i in range(k):\r\n",
    "                sumG = 0\r\n",
    "                sumGX = 0\r\n",
    "                sumGXMu = 0\r\n",
    "\r\n",
    "                for j in range(n):\r\n",
    "                    sumG += g[i][j]\r\n",
    "                    sumGX += g[i][j]*x[j]\r\n",
    "                    sumGXMu += g[i][j]*((x[j] - mu[i])**2)\r\n",
    "\r\n",
    "                mu[i] = sumGX / sumG\r\n",
    "                sigma[i] = np.sqrt(sumGXMu/ sumG)\r\n",
    "                w[i] = (1/n)*sumG\r\n",
    "        \r\n",
    "            #print('Delta')\r\n",
    "            #print(delta)\r\n",
    "    \r\n",
    "        #print('Itterations')\r\n",
    "        #print(iter)\r\n",
    "        \r\n",
    "        if (prev_delta < delta):\r\n",
    "            delta = prev_delta\r\n",
    "            mu = prev_mu\r\n",
    "            sigma = prev_sigma\r\n",
    "            w = prev_w\r\n",
    "\r\n",
    "        if (delta < g_delta):\r\n",
    "            print('Found good delta')\r\n",
    "            print(delta)\r\n",
    "            g_delta = delta\r\n",
    "            g_w = w\r\n",
    "            g_mu = mu\r\n",
    "            g_sigma = sigma\r\n",
    "    \r\n",
    "        print('Try')\r\n",
    "        print(tr+1)\r\n",
    "    \r\n",
    "    print('Done')\r\n",
    "    print(g_delta)\r\n",
    "    return g_w, g_mu, g_sigma\r\n",
    "\r\n",
    "#P[i] = w[i] * norm(x,m[i],sigma[i])\r\n",
    "#P = sum(P[i])\r\n",
    "\r\n",
    "\r\n",
    "\r\n",
    "\r\n",
    "\r\n",
    "                \r\n",
    "\r\n",
    "\r\n",
    "\r\n"
   ],
   "outputs": [],
   "metadata": {}
  },
  {
   "cell_type": "code",
   "execution_count": 306,
   "source": [
    "\r\n",
    "X = []\r\n",
    "for i in range (10000):\r\n",
    "    X.append(normal_distr_value(0,1))\r\n",
    "for i in range (10000):\r\n",
    "    X.append(normal_distr_value(6,1))\r\n",
    "\r\n",
    "\r\n",
    "\r\n",
    "plt.hist(X)\r\n",
    "\r\n",
    "\r\n"
   ],
   "outputs": [
    {
     "output_type": "execute_result",
     "data": {
      "text/plain": [
       "(array([ 210., 2226., 4958., 2385.,  234.,  543., 3562., 4532., 1281.,\n",
       "          69.]),\n",
       " array([-3.50707021, -2.21385381, -0.9206374 ,  0.37257901,  1.66579542,\n",
       "         2.95901183,  4.25222823,  5.54544464,  6.83866105,  8.13187746,\n",
       "         9.42509386]),\n",
       " <BarContainer object of 10 artists>)"
      ]
     },
     "metadata": {},
     "execution_count": 306
    },
    {
     "output_type": "display_data",
     "data": {
      "image/png": "[encoded data removed]",
      "text/plain": [
       "<Figure size 432x288 with 1 Axes>"
      ]
     },
     "metadata": {
      "needs_background": "light"
     }
    }
   ],
   "metadata": {}
  },
  {
   "cell_type": "code",
   "execution_count": 402,
   "source": [
    "k = 2\r\n",
    "\r\n",
    "eps = 0.6\r\n",
    "\r\n",
    "Qmax = 100\r\n",
    "tryes = 5\r\n",
    "\r\n",
    "w,mu,sigma = EM_method(X,k,eps,tryes,Qmax)"
   ],
   "outputs": [
    {
     "output_type": "stream",
     "name": "stdout",
     "text": [
      "Found good delta\n",
      "0.21520845993199383\n",
      "Try\n",
      "1\n",
      "Found good delta\n",
      "0.11205153571395232\n",
      "Try\n",
      "2\n",
      "Found good delta\n",
      "0.023415951242716948\n",
      "Try\n",
      "3\n",
      "Try\n",
      "4\n",
      "Try\n",
      "5\n",
      "Done\n",
      "0.023415951242716948\n"
     ]
    }
   ],
   "metadata": {}
  },
  {
   "cell_type": "code",
   "execution_count": 403,
   "source": [
    "print(w)\r\n",
    "print(mu)\r\n",
    "print(sigma)"
   ],
   "outputs": [
    {
     "output_type": "stream",
     "name": "stdout",
     "text": [
      "[0.33818345 0.66181655]\n",
      "[1.60573758 3.35797576]\n",
      "[2.93881379 3.09866561]\n"
     ]
    }
   ],
   "metadata": {}
  },
  {
   "cell_type": "code",
   "execution_count": 404,
   "source": [
    "# 100 linearly spaced numbers\r\n",
    "x = np.linspace(-4,12,100)\r\n",
    "\r\n",
    "# the function, which is y = x^2 here\r\n",
    "y = 0\r\n",
    "for i in range(k):\r\n",
    "    print(w[i])\r\n",
    "    y += w[i] * norm(x,mu[i],sigma[i])\r\n",
    "\r\n",
    "# setting the axes at the centre\r\n",
    "fig = plt.figure()\r\n",
    "\r\n",
    "\r\n",
    "\r\n",
    "y1 = w[0] * norm(x,mu[0],sigma[0])\r\n",
    "y2 = w[1] * norm(x,mu[1],sigma[1])\r\n",
    "\r\n",
    "# plot the function\r\n",
    "plt.plot(x,y1, 'r')\r\n",
    "plt.plot(x,y2, 'b')\r\n",
    "\r\n",
    "plt.show()\r\n",
    "\r\n",
    "# setting the axes at the centre\r\n",
    "fig = plt.figure()\r\n",
    "\r\n",
    "# plot the function\r\n",
    "plt.plot(x,y, 'r')\r\n",
    "\r\n",
    "\r\n",
    "\r\n",
    "# show the plot\r\n",
    "plt.show()\r\n",
    "\r\n",
    "plt.hist(X)\r\n"
   ],
   "outputs": [
    {
     "output_type": "stream",
     "name": "stdout",
     "text": [
      "0.33818345016534473\n",
      "0.6618165498346577\n"
     ]
    },
    {
     "output_type": "display_data",
     "data": {
      "image/png": "[encoded data removed]",
      "text/plain": [
       "<Figure size 432x288 with 1 Axes>"
      ]
     },
     "metadata": {
      "needs_background": "light"
     }
    },
    {
     "output_type": "display_data",
     "data": {
      "image/png": "[encoded data removed]",
      "text/plain": [
       "<Figure size 432x288 with 1 Axes>"
      ]
     },
     "metadata": {
      "needs_background": "light"
     }
    },
    {
     "output_type": "execute_result",
     "data": {
      "text/plain": [
       "(array([ 210., 2226., 4958., 2385.,  234.,  543., 3562., 4532., 1281.,\n",
       "          69.]),\n",
       " array([-3.50707021, -2.21385381, -0.9206374 ,  0.37257901,  1.66579542,\n",
       "         2.95901183,  4.25222823,  5.54544464,  6.83866105,  8.13187746,\n",
       "         9.42509386]),\n",
       " <BarContainer object of 10 artists>)"
      ]
     },
     "metadata": {},
     "execution_count": 404
    },
    {
     "output_type": "display_data",
     "data": {
      "image/png": "[encoded data removed]",
      "text/plain": [
       "<Figure size 432x288 with 1 Axes>"
      ]
     },
     "metadata": {
      "needs_background": "light"
     }
    }
   ],
   "metadata": {}
  }
 ],
 "metadata": {
  "orig_nbformat": 4,
  "language_info": {
   "name": "python",
   "version": "3.9.6",
   "mimetype": "text/x-python",
   "codemirror_mode": {
    "name": "ipython",
    "version": 3
   },
   "pygments_lexer": "ipython3",
   "nbconvert_exporter": "python",
   "file_extension": ".py"
  },
  "kernelspec": {
   "name": "python3",
   "display_name": "Python 3.9.6 64-bit ('pythonProject': conda)"
  },
  "interpreter": {
   "hash": "b5ed7aac63ba26b6cc13f3466962b87b151feb8ba9e841efa9abe3bad9164d9f"
  }
 },
 "nbformat": 4,
 "nbformat_minor": 2
}