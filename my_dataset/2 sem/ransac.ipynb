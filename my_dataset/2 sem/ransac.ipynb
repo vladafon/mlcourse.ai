{
 "cells": [
  {
   "cell_type": "code",
   "execution_count": 79,
   "source": [
    "import numpy as np\r\n",
    "import matplotlib.pyplot as plt\r\n",
    "from sklearn.linear_model import LinearRegression\r\n",
    "import math"
   ],
   "outputs": [],
   "metadata": {}
  },
  {
   "cell_type": "code",
   "execution_count": 26,
   "source": [
    "x = np.linspace(0,9,num=10)\r\n",
    "y = np.linspace(0,9,num=10)\r\n",
    "x = np.append(x,10)\r\n",
    "y = np.append(y,15)\r\n",
    "x = np.append(x,12).reshape((-1, 1))\r\n",
    "y = np.append(y,20)\r\n",
    "\r\n",
    "x_norm = x.reshape(len(x))"
   ],
   "outputs": [],
   "metadata": {}
  },
  {
   "cell_type": "code",
   "execution_count": 30,
   "source": [
    "model = LinearRegression()\r\n",
    "model.fit(x, y)\r\n",
    "\r\n",
    "b1 = model.coef_\r\n",
    "b0 = model.intercept_\r\n",
    "\r\n",
    "print('intercept:', b0)\r\n",
    "print('slope:', b1)"
   ],
   "outputs": [
    {
     "output_type": "stream",
     "name": "stdout",
     "text": [
      "intercept: -1.5626681011296428\n",
      "slope: [1.4739107]\n"
     ]
    }
   ],
   "metadata": {}
  },
  {
   "cell_type": "code",
   "execution_count": 31,
   "source": [
    "y_reg = b1*x+b0"
   ],
   "outputs": [],
   "metadata": {}
  },
  {
   "cell_type": "code",
   "execution_count": 33,
   "source": [
    "plt.plot(x_norm, y, 'ro')\r\n",
    "plt.plot(x_norm,y_reg)\r\n",
    "plt.show()"
   ],
   "outputs": [
    {
     "output_type": "display_data",
     "data": {
      "image/png": "[encoded data removed]",
      "text/plain": [
       "<Figure size 432x288 with 1 Axes>"
      ]
     },
     "metadata": {
      "needs_background": "light"
     }
    }
   ],
   "metadata": {}
  },
  {
   "cell_type": "code",
   "execution_count": 63,
   "source": [
    "def line(b0, b1, x):\r\n",
    "    return b1*x+b0"
   ],
   "outputs": [],
   "metadata": {}
  },
  {
   "cell_type": "code",
   "execution_count": 64,
   "source": [
    "def distance(x0, y0, b0, b1, f):\r\n",
    "\r\n",
    "    x1 = np.random.randint(0,5)\r\n",
    "    x2 = np.random.randint(5,10)\r\n",
    "\r\n",
    "    y1 = f(b0,b1,x1)\r\n",
    "    y2 = f(b0,b1,x2)\r\n",
    "\r\n",
    "    return (abs((x2-x1)*(y1-y0) - (x1-x0)*(y2-y1)) / np.sqrt(np.square(x2-x1) + np.square(y2-y1)))[0]"
   ],
   "outputs": [],
   "metadata": {}
  },
  {
   "cell_type": "code",
   "execution_count": 44,
   "source": [
    "distance(2, 0, b0, b1, line)"
   ],
   "outputs": [
    {
     "output_type": "execute_result",
     "data": {
      "text/plain": [
       "0.7776837051051155"
      ]
     },
     "metadata": {},
     "execution_count": 44
    }
   ],
   "metadata": {}
  },
  {
   "cell_type": "code",
   "execution_count": 113,
   "source": [
    "def train(samples, batch_size = 3, itter = 10):\r\n",
    "\r\n",
    "    b0_best = 0\r\n",
    "    b1_best = 0\r\n",
    "\r\n",
    "    avg_dist_best = math.inf\r\n",
    "\r\n",
    "    unzip_samples = list(zip(*samples))\r\n",
    "    x = np.array(unzip_samples[0])\r\n",
    "    y = np.array(unzip_samples[1])\r\n",
    "\r\n",
    "    len_samples = len(samples)\r\n",
    "    sample_indices = list(range(len_samples))\r\n",
    "\r\n",
    "    for _ in range(itter):\r\n",
    "        #batches gen\r\n",
    "        batch_indices = np.random.choice(sample_indices,batch_size).tolist()\r\n",
    "\r\n",
    "        x_batch = x[batch_indices]\r\n",
    "        y_batch = y[batch_indices]\r\n",
    "\r\n",
    "        #least square distance method\r\n",
    "        model = LinearRegression()\r\n",
    "        model.fit(x_batch.reshape((-1, 1)), y_batch)\r\n",
    "\r\n",
    "        b1 = model.coef_\r\n",
    "        b0 = model.intercept_\r\n",
    "\r\n",
    "        #count average distance\r\n",
    "        distances = []\r\n",
    "        \r\n",
    "        for i in range(len_samples):\r\n",
    "            distances.append(distance(x[i], y[i], b0, b1, line))\r\n",
    "        \r\n",
    "        avg_dist = np.average(distances)\r\n",
    "\r\n",
    "        if avg_dist < avg_dist_best:\r\n",
    "            avg_dist_best = avg_dist\r\n",
    "            b0_best = b0\r\n",
    "            b1_best = b1\r\n",
    "\r\n",
    "    \r\n",
    "    return b0_best, b1_best\r\n"
   ],
   "outputs": [],
   "metadata": {}
  },
  {
   "cell_type": "code",
   "execution_count": 56,
   "source": [
    "samples = zip(x_norm,y)\r\n",
    "samples = list(samples)\r\n",
    "samples"
   ],
   "outputs": [
    {
     "output_type": "execute_result",
     "data": {
      "text/plain": [
       "[(0.0, 0.0),\n",
       " (1.0, 1.0),\n",
       " (2.0, 2.0),\n",
       " (3.0, 3.0),\n",
       " (4.0, 4.0),\n",
       " (5.0, 5.0),\n",
       " (6.0, 6.0),\n",
       " (7.0, 7.0),\n",
       " (8.0, 8.0),\n",
       " (9.0, 9.0),\n",
       " (10.0, 15.0),\n",
       " (12.0, 20.0)]"
      ]
     },
     "metadata": {},
     "execution_count": 56
    }
   ],
   "metadata": {}
  },
  {
   "cell_type": "code",
   "execution_count": 57,
   "source": [
    "list(zip(*samples))"
   ],
   "outputs": [
    {
     "output_type": "execute_result",
     "data": {
      "text/plain": [
       "[(0.0, 1.0, 2.0, 3.0, 4.0, 5.0, 6.0, 7.0, 8.0, 9.0, 10.0, 12.0),\n",
       " (0.0, 1.0, 2.0, 3.0, 4.0, 5.0, 6.0, 7.0, 8.0, 9.0, 15.0, 20.0)]"
      ]
     },
     "metadata": {},
     "execution_count": 57
    }
   ],
   "metadata": {}
  },
  {
   "cell_type": "code",
   "execution_count": 78,
   "source": [
    "distance(x_norm[5], y[5], b0, b1, line)"
   ],
   "outputs": [
    {
     "output_type": "execute_result",
     "data": {
      "text/plain": [
       "0.4530196340418153"
      ]
     },
     "metadata": {},
     "execution_count": 78
    }
   ],
   "metadata": {}
  },
  {
   "cell_type": "code",
   "execution_count": 100,
   "source": [
    "type(x)"
   ],
   "outputs": [
    {
     "output_type": "execute_result",
     "data": {
      "text/plain": [
       "numpy.ndarray"
      ]
     },
     "metadata": {},
     "execution_count": 100
    }
   ],
   "metadata": {}
  },
  {
   "cell_type": "code",
   "execution_count": 114,
   "source": [
    "b0_ransac, b1_ransac = train(samples)\r\n",
    "print(b0_ransac)\r\n",
    "print(b1_ransac)"
   ],
   "outputs": [
    {
     "output_type": "stream",
     "name": "stdout",
     "text": [
      "0.0\n",
      "[1.]\n"
     ]
    }
   ],
   "metadata": {}
  },
  {
   "cell_type": "code",
   "execution_count": 115,
   "source": [
    "y_ransac = b1_ransac*x+b0_ransac\r\n",
    "\r\n",
    "plt.plot(x_norm, y, 'ro')\r\n",
    "plt.plot(x_norm,y_reg)\r\n",
    "plt.plot(x_norm,y_ransac)\r\n",
    "plt.show()"
   ],
   "outputs": [
    {
     "output_type": "display_data",
     "data": {
      "image/png": "[encoded data removed]",
      "text/plain": [
       "<Figure size 432x288 with 1 Axes>"
      ]
     },
     "metadata": {
      "needs_background": "light"
     }
    }
   ],
   "metadata": {}
  }
 ],
 "metadata": {
  "orig_nbformat": 4,
  "language_info": {
   "name": "python",
   "version": "3.9.6",
   "mimetype": "text/x-python",
   "codemirror_mode": {
    "name": "ipython",
    "version": 3
   },
   "pygments_lexer": "ipython3",
   "nbconvert_exporter": "python",
   "file_extension": ".py"
  },
  "kernelspec": {
   "name": "python3",
   "display_name": "Python 3.9.6 64-bit ('pythonProject': conda)"
  },
  "interpreter": {
   "hash": "b5ed7aac63ba26b6cc13f3466962b87b151feb8ba9e841efa9abe3bad9164d9f"
  }
 },
 "nbformat": 4,
 "nbformat_minor": 2
}