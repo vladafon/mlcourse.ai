{
 "cells": [
  {
   "cell_type": "code",
   "execution_count": 1,
   "source": [
    "import numpy as np\r\n",
    "from matplotlib import pyplot as plt"
   ],
   "outputs": [],
   "metadata": {}
  },
  {
   "cell_type": "code",
   "execution_count": 6,
   "source": [
    "\r\n",
    "def exp(x,lamda):\r\n",
    "    result = lamda*np.exp(-lamda*x)\r\n",
    "    return result\r\n",
    "\r\n",
    "# метод, который определяет парметры распределений заданного набора числей, входящих в смесь распределений\r\n",
    "def EM_method(x,k,eps = 1e-10, tries = 30, Qmax = 100):\r\n",
    "    g_delta = 1\r\n",
    "    g_w = np.zeros(k)\r\n",
    "    g_lamda = np.zeros(k)\r\n",
    "\r\n",
    "    for tr in range(tries):\r\n",
    "        n = len(x)\r\n",
    "        g = np.random.rand(k,n)\r\n",
    "        w = np.random.rand(k)\r\n",
    "        lamda = np.random.rand(k)\r\n",
    "\r\n",
    "        delta = 1\r\n",
    "        iter = 0\r\n",
    "        prev_delta = 2\r\n",
    "        prev_w = np.zeros(k)\r\n",
    "        prev_lamda = np.zeros(k)\r\n",
    "\r\n",
    "        while delta >= eps and iter <= Qmax and delta < prev_delta:\r\n",
    "            prev_delta = delta\r\n",
    "            prev_lamda = lamda\r\n",
    "            prev_w = w\r\n",
    "            iter += 1\r\n",
    "\r\n",
    "            #E step\r\n",
    "            g0 = g.copy()\r\n",
    "\r\n",
    "            for i in range(k):\r\n",
    "                for j in range(n):\r\n",
    "                    det = 0\r\n",
    "                    for v in range(k):\r\n",
    "                        det += w[v]*exp(x[j],lamda[v])\r\n",
    "                    g[i][j] = w[i]*exp(x[j],lamda[i])/det\r\n",
    "\r\n",
    "            delta = np.max(np.absolute(g0-g))\r\n",
    "\r\n",
    "            #M step\r\n",
    "            for i in range(k):\r\n",
    "                sumG = 0\r\n",
    "                sumGX = 0\r\n",
    "\r\n",
    "                for j in range(n):\r\n",
    "                    sumG += g[i][j]\r\n",
    "                    sumGX += g[i][j]*x[j]\r\n",
    "                \r\n",
    "                kek = np.sum(g)\r\n",
    "\r\n",
    "                lamda[i] = sumG / sumGX\r\n",
    "                w[i] = sumG/kek\r\n",
    "        \r\n",
    "            #print('Delta')\r\n",
    "            #print(delta)\r\n",
    "    \r\n",
    "        #print('Itterations')\r\n",
    "        #print(iter)\r\n",
    "        \r\n",
    "        if (prev_delta < delta):\r\n",
    "            delta = prev_delta\r\n",
    "            lamda = prev_lamda\r\n",
    "            w = prev_w\r\n",
    "\r\n",
    "        if (delta < g_delta):\r\n",
    "            print('Found good delta')\r\n",
    "            print(delta)\r\n",
    "            g_delta = delta\r\n",
    "            g_w = w\r\n",
    "            g_lamda = lamda\r\n",
    "    \r\n",
    "        print('Try')\r\n",
    "        print(tr+1)\r\n",
    "    \r\n",
    "    print('Done')\r\n",
    "    print(g_delta)\r\n",
    "    return g_w, g_lamda\r\n",
    "\r\n",
    "#P[i] = w[i] * norm(x,lamda[i])\r\n",
    "#P = sum(P[i])\r\n",
    "\r\n",
    "\r\n",
    "\r\n",
    "\r\n",
    "\r\n",
    "                \r\n",
    "\r\n",
    "\r\n",
    "\r\n"
   ],
   "outputs": [],
   "metadata": {}
  },
  {
   "cell_type": "code",
   "execution_count": 12,
   "source": [
    "from numpy import random\r\n",
    "\r\n",
    "#scale = 1/lamda\r\n",
    "\r\n",
    "a1 = (random.exponential(scale=0.5, size=(1, 1000)))\r\n",
    "a2 = (random.exponential(scale=4, size=(1, 1000)))\r\n",
    "\r\n",
    "X = np.concatenate((a1,a2),axis = None)\r\n",
    "\r\n",
    "plt.hist(X)\r\n",
    "\r\n",
    "\r\n"
   ],
   "outputs": [
    {
     "output_type": "execute_result",
     "data": {
      "text/plain": [
       "(array([1581.,  241.,  107.,   44.,   19.,    0.,    6.,    0.,    0.,\n",
       "           2.]),\n",
       " array([6.19045968e-04, 3.67235670e+00, 7.34409434e+00, 1.10158320e+01,\n",
       "        1.46875696e+01, 1.83593073e+01, 2.20310449e+01, 2.57027826e+01,\n",
       "        2.93745202e+01, 3.30462579e+01, 3.67179955e+01]),\n",
       " <BarContainer object of 10 artists>)"
      ]
     },
     "metadata": {},
     "execution_count": 12
    },
    {
     "output_type": "display_data",
     "data": {
      "image/png": "[encoded data removed]",
      "text/plain": [
       "<Figure size 432x288 with 1 Axes>"
      ]
     },
     "metadata": {
      "needs_background": "light"
     }
    }
   ],
   "metadata": {}
  },
  {
   "cell_type": "code",
   "execution_count": 13,
   "source": [
    "X.shape"
   ],
   "outputs": [
    {
     "output_type": "execute_result",
     "data": {
      "text/plain": [
       "(2000,)"
      ]
     },
     "metadata": {},
     "execution_count": 13
    }
   ],
   "metadata": {}
  },
  {
   "cell_type": "code",
   "execution_count": 30,
   "source": [
    "k = 2\r\n",
    "\r\n",
    "eps = 0.6\r\n",
    "\r\n",
    "Qmax = 100\r\n",
    "tryes = 5\r\n",
    "\r\n",
    "w,lamda = EM_method(X,k,eps,tryes,Qmax)"
   ],
   "outputs": [
    {
     "output_type": "stream",
     "name": "stdout",
     "text": [
      "Found good delta\n",
      "0.12194071086994929\n",
      "Try\n",
      "1\n",
      "Try\n",
      "2\n",
      "Found good delta\n",
      "0.11154370339589564\n",
      "Try\n",
      "3\n",
      "Try\n",
      "4\n",
      "Try\n",
      "5\n",
      "Done\n",
      "0.11154370339589564\n"
     ]
    }
   ],
   "metadata": {}
  },
  {
   "cell_type": "code",
   "execution_count": 31,
   "source": [
    "print(w)\r\n",
    "print(lamda)"
   ],
   "outputs": [
    {
     "output_type": "stream",
     "name": "stdout",
     "text": [
      "[0.59721435 0.40278565]\n",
      "[0.29852093 1.16978451]\n"
     ]
    }
   ],
   "metadata": {}
  },
  {
   "cell_type": "code",
   "execution_count": 32,
   "source": [
    "# 100 linearly spaced numbers\r\n",
    "x = np.linspace(0,24,100)\r\n",
    "\r\n",
    "# the function, which is y = x^2 here\r\n",
    "y = 0\r\n",
    "for i in range(k):\r\n",
    "    print(w[i])\r\n",
    "    y += w[i] * exp(x,lamda[i]) /k\r\n",
    "\r\n",
    "# setting the axes at the centre\r\n",
    "fig = plt.figure()\r\n",
    "\r\n",
    "\r\n",
    "\r\n",
    "y1 = w[0] * exp(x,lamda[0])\r\n",
    "y2 = w[1] * exp(x,lamda[1])\r\n",
    "\r\n",
    "# plot the function\r\n",
    "plt.plot(x,y1, 'r')\r\n",
    "plt.plot(x,y2, 'b')\r\n",
    "\r\n",
    "plt.show()\r\n",
    "\r\n",
    "# setting the axes at the centre\r\n",
    "fig = plt.figure()\r\n",
    "\r\n",
    "# plot the function\r\n",
    "plt.plot(x,y, 'r')\r\n",
    "\r\n",
    "\r\n",
    "\r\n",
    "# show the plot\r\n",
    "plt.show()\r\n",
    "\r\n",
    "plt.hist(X, density=True)\r\n"
   ],
   "outputs": [
    {
     "output_type": "stream",
     "name": "stdout",
     "text": [
      "0.597214354294531\n",
      "0.4027856457054695\n"
     ]
    },
    {
     "output_type": "display_data",
     "data": {
      "image/png": "[encoded data removed]",
      "text/plain": [
       "<Figure size 432x288 with 1 Axes>"
      ]
     },
     "metadata": {
      "needs_background": "light"
     }
    },
    {
     "output_type": "display_data",
     "data": {
      "image/png": "[encoded data removed]",
      "text/plain": [
       "<Figure size 432x288 with 1 Axes>"
      ]
     },
     "metadata": {
      "needs_background": "light"
     }
    },
    {
     "output_type": "execute_result",
     "data": {
      "text/plain": [
       "(array([0.21529316, 0.03281825, 0.01457076, 0.00599171, 0.00258733,\n",
       "        0.        , 0.00081705, 0.        , 0.        , 0.00027235]),\n",
       " array([6.19045968e-04, 3.67235670e+00, 7.34409434e+00, 1.10158320e+01,\n",
       "        1.46875696e+01, 1.83593073e+01, 2.20310449e+01, 2.57027826e+01,\n",
       "        2.93745202e+01, 3.30462579e+01, 3.67179955e+01]),\n",
       " <BarContainer object of 10 artists>)"
      ]
     },
     "metadata": {},
     "execution_count": 32
    },
    {
     "output_type": "display_data",
     "data": {
      "image/png": "[encoded data removed]",
      "text/plain": [
       "<Figure size 432x288 with 1 Axes>"
      ]
     },
     "metadata": {
      "needs_background": "light"
     }
    }
   ],
   "metadata": {}
  }
 ],
 "metadata": {
  "orig_nbformat": 4,
  "language_info": {
   "name": "python",
   "version": "3.9.6",
   "mimetype": "text/x-python",
   "codemirror_mode": {
    "name": "ipython",
    "version": 3
   },
   "pygments_lexer": "ipython3",
   "nbconvert_exporter": "python",
   "file_extension": ".py"
  },
  "kernelspec": {
   "name": "python3",
   "display_name": "Python 3.9.6 64-bit ('pythonProject': conda)"
  },
  "interpreter": {
   "hash": "b5ed7aac63ba26b6cc13f3466962b87b151feb8ba9e841efa9abe3bad9164d9f"
  }
 },
 "nbformat": 4,
 "nbformat_minor": 2
}