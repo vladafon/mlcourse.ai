{
 "cells": [
  {
   "cell_type": "markdown",
   "source": [
    "Exercises\r\n",
    "1. Calculate √2 with 100 decimals.\r\n",
    "2. Calculate 1/2 + 1/3 in rational arithmetic"
   ],
   "metadata": {}
  },
  {
   "cell_type": "code",
   "execution_count": 31,
   "source": [
    "import sympy as sym\r\n",
    "\r\n",
    "#1\r\n",
    "print(sym.sqrt(2).evalf(100))\r\n",
    "\r\n",
    "#2\r\n",
    "print(sym.Rational(1,2)+sym.Rational(1,3))"
   ],
   "outputs": [
    {
     "output_type": "stream",
     "name": "stdout",
     "text": [
      "1.414213562373095048801688724209698078569671875376948073176679737990732478462107038850387534327641573\n",
      "5/6\n"
     ]
    }
   ],
   "metadata": {}
  },
  {
   "cell_type": "code",
   "execution_count": 32,
   "source": [
    "sym.init_printing(use_unicode=False, wrap_line=True)\r\n"
   ],
   "outputs": [],
   "metadata": {}
  },
  {
   "cell_type": "markdown",
   "source": [
    "1. Calculate the expanded form of (𝑥 + 𝑦)^6\r\n",
    "2. Simplify the trigonometric expression sin(𝑥)/ cos(𝑥)\r\n"
   ],
   "metadata": {}
  },
  {
   "cell_type": "code",
   "execution_count": 37,
   "source": [
    "#1\r\n",
    "x = sym.Symbol('x')\r\n",
    "y = sym.Symbol('y')\r\n",
    "exp = sym.Pow((x+y),6)\r\n",
    "\r\n",
    "sym.expand(exp)"
   ],
   "outputs": [
    {
     "output_type": "execute_result",
     "data": {
      "text/latex": [
       "$\\displaystyle x^{6} + 6 x^{5} y + 15 x^{4} y^{2} + 20 x^{3} y^{3} + 15 x^{2} y^{4} + 6 x y^{5} + y^{6}$"
      ],
      "image/png": "[encoded data removed]",
      "text/plain": [
       " 6      5         4  2       3  3       2  4        5    6\n",
       "x  + 6*x *y + 15*x *y  + 20*x *y  + 15*x *y  + 6*x*y  + y "
      ]
     },
     "metadata": {},
     "execution_count": 37
    }
   ],
   "metadata": {}
  },
  {
   "cell_type": "code",
   "execution_count": 41,
   "source": [
    "#2\r\n",
    "exp = sym.sin(x)/sym.cos(x)\r\n",
    "\r\n",
    "sym.trigsimp(exp)"
   ],
   "outputs": [
    {
     "output_type": "execute_result",
     "data": {
      "text/latex": [
       "$\\displaystyle \\tan{\\left(x \\right)}$"
      ],
      "image/png": "[encoded data removed]",
      "text/plain": [
       "tan(x)"
      ]
     },
     "metadata": {},
     "execution_count": 41
    }
   ],
   "metadata": {}
  },
  {
   "cell_type": "markdown",
   "source": [
    "1. Calculate lim𝑥→0 sin(𝑥)/𝑥\r\n",
    "2. Calculate the derivative of 𝑙𝑜𝑔(𝑥) for 𝑥."
   ],
   "metadata": {}
  },
  {
   "cell_type": "code",
   "execution_count": 44,
   "source": [
    "#1\r\n",
    "sym.limit(sym.sin(x)/x, x, 0)"
   ],
   "outputs": [
    {
     "output_type": "execute_result",
     "data": {
      "text/latex": [
       "$\\displaystyle 1$"
      ],
      "image/png": "[encoded data removed]",
      "text/plain": [
       "1"
      ]
     },
     "metadata": {},
     "execution_count": 44
    }
   ],
   "metadata": {}
  },
  {
   "cell_type": "code",
   "execution_count": 45,
   "source": [
    "#2\r\n",
    "sym.diff(sym.log(x),x)"
   ],
   "outputs": [
    {
     "output_type": "execute_result",
     "data": {
      "text/latex": [
       "$\\displaystyle \\frac{1}{x}$"
      ],
      "image/png": "[encoded data removed]",
      "text/plain": [
       "1\n",
       "-\n",
       "x"
      ]
     },
     "metadata": {},
     "execution_count": 45
    }
   ],
   "metadata": {}
  },
  {
   "cell_type": "markdown",
   "source": [
    "1. Solve the system of equations 𝑥 + 𝑦 = 2, 2 · 𝑥 + 𝑦 = 0\r\n",
    "2. Are there boolean values x, y that make (~x | y) & (~y | x) true?"
   ],
   "metadata": {}
  },
  {
   "cell_type": "code",
   "execution_count": 46,
   "source": [
    "#1\r\n",
    "sym.solve((x+y-2,2*x+y),(x,y))"
   ],
   "outputs": [
    {
     "output_type": "execute_result",
     "data": {
      "text/latex": [
       "$\\displaystyle \\left\\{ x : -2, \\  y : 4\\right\\}$"
      ],
      "image/png": "[encoded data removed]",
      "text/plain": [
       "{x: -2, y: 4}"
      ]
     },
     "metadata": {},
     "execution_count": 46
    }
   ],
   "metadata": {}
  },
  {
   "cell_type": "code",
   "execution_count": 47,
   "source": [
    "#2\r\n",
    "sym.satisfiable((~x | y) & (~y | x))"
   ],
   "outputs": [
    {
     "output_type": "execute_result",
     "data": {
      "text/plain": [
       "{x: False, y: False}"
      ]
     },
     "metadata": {},
     "execution_count": 47
    }
   ],
   "metadata": {}
  },
  {
   "cell_type": "markdown",
   "source": [
    "1. Solve the Bernoulli differential equation\r\n",
    "\r\n",
    "2. Solve the same equation using hint='Bernoulli'. What do you observe ?"
   ],
   "metadata": {}
  },
  {
   "cell_type": "code",
   "execution_count": 48,
   "source": [
    "f = sym.Function('f')\r\n",
    "\r\n",
    "sym.dsolve(x*f(x).diff(x)+f(x) - f(x)**2)"
   ],
   "outputs": [
    {
     "output_type": "execute_result",
     "data": {
      "text/latex": [
       "$\\displaystyle f{\\left(x \\right)} = - \\frac{C_{1}}{- C_{1} + x}$"
      ],
      "image/png": "[encoded data removed]",
      "text/plain": [
       "         -C1  \n",
       "f(x) = -------\n",
       "       -C1 + x"
      ]
     },
     "metadata": {},
     "execution_count": 48
    }
   ],
   "metadata": {}
  },
  {
   "cell_type": "code",
   "execution_count": 49,
   "source": [
    "sym.dsolve(x*f(x).diff(x)+f(x) - f(x)**2, hint = 'Bernoulli')"
   ],
   "outputs": [
    {
     "output_type": "execute_result",
     "data": {
      "text/latex": [
       "$\\displaystyle f{\\left(x \\right)} = \\frac{1}{C_{1} x + 1}$"
      ],
      "image/png": "[encoded data removed]",
      "text/plain": [
       "          1    \n",
       "f(x) = --------\n",
       "       C1*x + 1"
      ]
     },
     "metadata": {},
     "execution_count": 49
    }
   ],
   "metadata": {}
  }
 ],
 "metadata": {
  "orig_nbformat": 4,
  "language_info": {
   "name": "python",
   "version": "3.8.5",
   "mimetype": "text/x-python",
   "codemirror_mode": {
    "name": "ipython",
    "version": 3
   },
   "pygments_lexer": "ipython3",
   "nbconvert_exporter": "python",
   "file_extension": ".py"
  },
  "kernelspec": {
   "name": "python3",
   "display_name": "Python 3.8.5 64-bit ('base': conda)"
  },
  "interpreter": {
   "hash": "b3ba2566441a7c06988d0923437866b63cedc61552a5af99d1f4fb67d367b25f"
  }
 },
 "nbformat": 4,
 "nbformat_minor": 2
}