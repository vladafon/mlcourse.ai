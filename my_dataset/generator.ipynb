{
 "cells": [
  {
   "cell_type": "code",
   "execution_count": 94,
   "source": [
    "import numpy as np\r\n",
    "from matplotlib import pyplot as plt\r\n",
    "import random as rand\r\n",
    "def base_generator(N):\r\n",
    "    a = 5**13\r\n",
    "    m = 2**31 + 1\r\n",
    "    x0 = rand.randint(111111111,999999999)\r\n",
    "\r\n",
    "    x = [x0]\r\n",
    "    r = [x0/m]\r\n",
    "    for i in range(1,N):\r\n",
    "        x.append((a*x[i-1]) % m)\r\n",
    "        r.append(x[i]/m)\r\n",
    "\r\n",
    "    return r\r\n",
    "\r\n",
    "\r\n",
    "def normal_distr_value(mu, sigma, N = 12):\r\n",
    "    r = base_generator(N)\r\n",
    "    return (mu+(sigma/(np.sqrt(N/12)))*(sum(r)/ + N/2))\r\n",
    "\r\n",
    "\r\n",
    "z = []\r\n",
    "for i in range (10000):\r\n",
    "    z.append(normal_distr_value(0,1))\r\n",
    "\r\n",
    "\r\n",
    "plt.hist(z)\r\n",
    "\r\n",
    "\r\n",
    "\r\n",
    "\r\n"
   ],
   "outputs": [
    {
     "output_type": "execute_result",
     "data": {
      "text/plain": [
       "(array([  15.,  105.,  546., 1609., 2655., 2712., 1669.,  577.,  103.,\n",
       "           9.]),\n",
       " array([0.67927899, 0.73920388, 0.79912877, 0.85905366, 0.91897855,\n",
       "        0.97890344, 1.03882833, 1.09875322, 1.15867812, 1.21860301,\n",
       "        1.2785279 ]),\n",
       " <BarContainer object of 10 artists>)"
      ]
     },
     "metadata": {},
     "execution_count": 94
    },
    {
     "output_type": "display_data",
     "data": {
      "image/png": "[encoded data removed]",
      "text/plain": [
       "<Figure size 432x288 with 1 Axes>"
      ]
     },
     "metadata": {
      "needs_background": "light"
     }
    }
   ],
   "metadata": {}
  }
 ],
 "metadata": {
  "orig_nbformat": 4,
  "language_info": {
   "name": "python",
   "version": "3.9.6",
   "mimetype": "text/x-python",
   "codemirror_mode": {
    "name": "ipython",
    "version": 3
   },
   "pygments_lexer": "ipython3",
   "nbconvert_exporter": "python",
   "file_extension": ".py"
  },
  "kernelspec": {
   "name": "python3",
   "display_name": "Python 3.9.6 64-bit ('pythonProject': conda)"
  },
  "interpreter": {
   "hash": "b5ed7aac63ba26b6cc13f3466962b87b151feb8ba9e841efa9abe3bad9164d9f"
  }
 },
 "nbformat": 4,
 "nbformat_minor": 2
}