{
  "nbformat": 4,
  "nbformat_minor": 0,
  "metadata": {
    "colab": {
      "name": "Untitled0.ipynb",
      "provenance": [],
      "collapsed_sections": []
    },
    "kernelspec": {
      "name": "python3",
      "display_name": "Python 3"
    },
    "language_info": {
      "name": "python"
    }
  },
  "cells": [
    {
      "cell_type": "code",
      "metadata": {
        "colab": {
          "base_uri": "https://localhost:8080/"
        },
        "id": "a23LKYcbjm4z",
        "outputId": "f634aab5-0d39-4277-8a65-89b9e9182570"
      },
      "source": [
        "!pip install pygmo"
      ],
      "execution_count": 1,
      "outputs": [
        {
          "output_type": "stream",
          "name": "stdout",
          "text": [
            "Collecting pygmo\n",
            "  Downloading pygmo-2.16.1-cp37-cp37m-manylinux2010_x86_64.whl (11.5 MB)\n",
            "\u001b[K     |████████████████████████████████| 11.5 MB 5.1 MB/s \n",
            "\u001b[?25hRequirement already satisfied: numpy in /usr/local/lib/python3.7/dist-packages (from pygmo) (1.19.5)\n",
            "Requirement already satisfied: cloudpickle in /usr/local/lib/python3.7/dist-packages (from pygmo) (1.3.0)\n",
            "Installing collected packages: pygmo\n",
            "Successfully installed pygmo-2.16.1\n"
          ]
        }
      ]
    },
    {
      "cell_type": "code",
      "metadata": {
        "colab": {
          "base_uri": "https://localhost:8080/"
        },
        "id": "56QPaKpLj8VS",
        "outputId": "ec81e10a-7407-4b96-e029-0a4f027e5899"
      },
      "source": [
        "import pygmo as pg\n",
        "import numpy as np\n",
        "\n",
        "\n",
        "class funca:\n",
        "    def __init__(self,dim):\n",
        "        self.dim = dim\n",
        "    def fitness(self,x):\n",
        "        retval = np.zeros((1,))\n",
        "        for i in range(len(x) - 1):\n",
        "          retval[0] += -(-np.exp(1)+20*np.exp(-np.sqrt((x[i]**2+x[i+1]**2)/50))+np.exp(0.5*(np.cos(2*np.pi*x[i])+np.sin(2*np.pi*x[i+1]))))\n",
        "          #retval[0] += x[i]**2 + x[i+1] **2\n",
        "        return retval\n",
        "    def get_bounds(self):\n",
        "        return (np.full((self.dim,),-100.),np.full((self.dim,),100.))\n",
        "\n",
        "#f = lambda x, y: -np.exp(1)+20*np.exp(-np.sqrt((x**2+y**2)/50))+np.exp(0.5*(sp.cos(2*np.pi*x)+sp.sin(2*np.pi*y)))\n",
        "\n",
        "prob = pg.problem(funca(3))\n",
        "\n",
        "print(prob)\n"
      ],
      "execution_count": 11,
      "outputs": [
        {
          "output_type": "stream",
          "name": "stdout",
          "text": [
            "Problem name: <class '__main__.funca'>\n",
            "\tC++ class name: pybind11::object\n",
            "\n",
            "\tGlobal dimension:\t\t\t3\n",
            "\tInteger dimension:\t\t\t0\n",
            "\tFitness dimension:\t\t\t1\n",
            "\tNumber of objectives:\t\t\t1\n",
            "\tEquality constraints dimension:\t\t0\n",
            "\tInequality constraints dimension:\t0\n",
            "\tLower bounds: [-100, -100, -100]\n",
            "\tUpper bounds: [100, 100, 100]\n",
            "\tHas batch fitness evaluation: false\n",
            "\n",
            "\tHas gradient: false\n",
            "\tUser implemented gradient sparsity: false\n",
            "\tHas hessians: false\n",
            "\tUser implemented hessians sparsity: false\n",
            "\n",
            "\tFitness evaluations: 0\n",
            "\n",
            "\tThread safety: none\n",
            "\n"
          ]
        }
      ]
    },
    {
      "cell_type": "code",
      "metadata": {
        "colab": {
          "base_uri": "https://localhost:8080/"
        },
        "id": "zNOQD9ISoeY7",
        "outputId": "b7e1ddf1-416b-4eb8-8a84-298386afc1cd"
      },
      "source": [
        "algo = pg.algorithm(pg.bee_colony(gen = 1000, limit = 20))\n",
        "pop = pg.population(prob,10)\n",
        "pop = algo.evolve(pop)\n",
        "print(pop.champion_f) "
      ],
      "execution_count": 19,
      "outputs": [
        {
          "output_type": "stream",
          "name": "stdout",
          "text": [
            "[-35.78449116]\n"
          ]
        }
      ]
    }
  ]
}