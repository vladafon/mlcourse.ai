{
 "cells": [
  {
   "cell_type": "code",
   "execution_count": 49,
   "source": [
    "!pip install sympy\r\n",
    "!pip install matplotlib\r\n",
    "\r\n",
    "import sympy as sym\r\n",
    "import random\r\n",
    "#from random import normalvariate\r\n",
    "\r\n",
    "def column(matrix, i):\r\n",
    "    return [row[i] for row in matrix]\r\n",
    "\r\n",
    "def func_gen(func, step_partition = 100, left = 5, right = 25, rand_shift = 1, seed = None):\r\n",
    "\r\n",
    "    result,original_points = [], []\r\n",
    "\r\n",
    "    if (seed is not None):\r\n",
    "        random.seed = seed\r\n",
    "\r\n",
    "   \r\n",
    "    \r\n",
    "    dfunc = func.diff(x)\r\n",
    "    f = sym.lambdify((x),func)\r\n",
    "    df = sym.lambdify((x),dfunc)\r\n",
    "\r\n",
    "\r\n",
    "\r\n",
    "    step = abs(right-left)/step_partition\r\n",
    "\r\n",
    "    cur_val = left\r\n",
    "    while (cur_val < right):\r\n",
    "\r\n",
    "        func_rand_shift = abs(rand_shift*df(cur_val))\r\n",
    "        #тут надо подумать над дисперсией......................\r\n",
    "        \r\n",
    "\r\n",
    "        y = f(cur_val)\r\n",
    "\r\n",
    "        rand_val_y = random.normalvariate(y,func_rand_shift/3)\r\n",
    "\r\n",
    "        result.append((cur_val,rand_val_y))\r\n",
    "        original_points.append((cur_val,y))\r\n",
    "\r\n",
    "\r\n",
    "        new_step = step/abs(df(cur_val))\r\n",
    "\r\n",
    "        if (new_step > 2*step):\r\n",
    "            cur_val += 2*step\r\n",
    "        elif (new_step < 0.1*step):\r\n",
    "            cur_val += 0.1*step\r\n",
    "        else:\r\n",
    "            cur_val += new_step\r\n",
    "\r\n",
    "        \r\n",
    "    \r\n",
    "    return result, original_points\r\n"
   ],
   "outputs": [
    {
     "output_type": "stream",
     "name": "stdout",
     "text": [
      "Requirement already satisfied: sympy in c:\\programdata\\anaconda3\\lib\\site-packages (1.6.2)\n",
      "Requirement already satisfied: mpmath>=0.19 in c:\\programdata\\anaconda3\\lib\\site-packages (from sympy) (1.1.0)\n",
      "Requirement already satisfied: matplotlib in c:\\programdata\\anaconda3\\lib\\site-packages (3.3.2)\n",
      "Requirement already satisfied: numpy>=1.15 in c:\\programdata\\anaconda3\\lib\\site-packages (from matplotlib) (1.19.2)\n",
      "Requirement already satisfied: pyparsing!=2.0.4,!=2.1.2,!=2.1.6,>=2.0.3 in c:\\programdata\\anaconda3\\lib\\site-packages (from matplotlib) (2.4.7)\n",
      "Requirement already satisfied: python-dateutil>=2.1 in c:\\programdata\\anaconda3\\lib\\site-packages (from matplotlib) (2.8.1)\n",
      "Requirement already satisfied: certifi>=2020.06.20 in c:\\programdata\\anaconda3\\lib\\site-packages (from matplotlib) (2020.6.20)\n",
      "Requirement already satisfied: kiwisolver>=1.0.1 in c:\\programdata\\anaconda3\\lib\\site-packages (from matplotlib) (1.3.0)\n",
      "Requirement already satisfied: pillow>=6.2.0 in c:\\programdata\\anaconda3\\lib\\site-packages (from matplotlib) (8.0.1)\n",
      "Requirement already satisfied: cycler>=0.10 in c:\\programdata\\anaconda3\\lib\\site-packages (from matplotlib) (0.10.0)\n",
      "Requirement already satisfied: six>=1.5 in c:\\programdata\\anaconda3\\lib\\site-packages (from python-dateutil>=2.1->matplotlib) (1.15.0)\n"
     ]
    }
   ],
   "metadata": {
    "collapsed": true
   }
  },
  {
   "cell_type": "code",
   "execution_count": 80,
   "source": [
    "x = sym.symbols('x')\r\n",
    "a = 1.3\r\n",
    "b = 0.3\r\n",
    "c = 3.5\r\n",
    "d = 0.4\r\n",
    "k = 0.4\r\n",
    "\r\n",
    "\r\n",
    "step_partition = 100\r\n",
    "\r\n",
    "left, right = 25,45\r\n",
    "\r\n",
    "func = sym.sin(a*x)*sym.cos(d*x)+(b*x+c)\r\n",
    "#func = sym.sin(a*x)*sym.cos(d*x)*sym.sqrt(abs(k*x))+(b*x+c)\r\n",
    "#func = sym.sin(x)\r\n",
    "\r\n",
    "points, original_points = func_gen(func,step_partition,left,right,2)\r\n",
    "\r\n",
    "\r\n",
    "import matplotlib.pyplot as plt\r\n",
    "\r\n",
    "plt.scatter(column(points,0), column(points,1))\r\n",
    "plt.plot(column(original_points,0), column(original_points,1))\r\n",
    "plt.show()\r\n",
    "\r\n",
    "print(len(points))"
   ],
   "outputs": [
    {
     "output_type": "display_data",
     "data": {
      "image/png": "[encoded data removed]",
      "text/plain": [
       "<Figure size 432x288 with 1 Axes>"
      ]
     },
     "metadata": {
      "needs_background": "light"
     }
    },
    {
     "output_type": "stream",
     "name": "stdout",
     "text": [
      "74\n"
     ]
    }
   ],
   "metadata": {}
  },
  {
   "cell_type": "code",
   "execution_count": 93,
   "source": [
    "import numpy as np\r\n",
    "def dist(X, Xi):\r\n",
    "    return np.sqrt((X[0]-Xi[0])**2 + (X[1]-Xi[1])**2)\r\n",
    "\r\n",
    "\r\n",
    "def K(r):\r\n",
    "    return P(r)\r\n",
    "\r\n",
    "\r\n",
    "#гауссово ядро\r\n",
    "def G(r):\r\n",
    "    return np.exp(-2*r**2)\r\n",
    "\r\n",
    "#прямоугольное ядро\r\n",
    "def P(r):\r\n",
    "    return int(r <= 1)\r\n",
    "\r\n",
    "def appr(h,points):\r\n",
    "    result = []\r\n",
    "    for i in points:\r\n",
    "        #считаем по формуле ядерного сглаживания\r\n",
    "        num = 0\r\n",
    "        denum = 0\r\n",
    "        for j in points:\r\n",
    "            num += j[1]*K(dist(i, j)/h)\r\n",
    "            denum +=K(dist(i, j)/h)\r\n",
    "\r\n",
    "        a_h = num/denum\r\n",
    "\r\n",
    "        result.append((i[0],a_h))\r\n",
    "    return result\r\n",
    "\r\n"
   ],
   "outputs": [],
   "metadata": {}
  },
  {
   "cell_type": "code",
   "execution_count": 94,
   "source": [
    "#ширина окошка\r\n",
    "h = 1\r\n",
    "\r\n",
    "\r\n",
    "appr_f = appr(h,points)\r\n",
    "\r\n",
    "\r\n",
    "import matplotlib.pyplot as plt\r\n",
    "\r\n",
    "plt.scatter(column(points,0), column(points,1))\r\n",
    "plt.plot(column(appr_f,0), column(appr_f,1))\r\n",
    "plt.show()\r\n",
    "\r\n",
    "print(len(points))"
   ],
   "outputs": [
    {
     "output_type": "display_data",
     "data": {
      "image/png": "[encoded data removed]",
      "text/plain": [
       "<Figure size 432x288 with 1 Axes>"
      ]
     },
     "metadata": {
      "needs_background": "light"
     }
    },
    {
     "output_type": "stream",
     "name": "stdout",
     "text": [
      "74\n"
     ]
    }
   ],
   "metadata": {}
  }
 ],
 "metadata": {
  "kernelspec": {
   "name": "python3",
   "display_name": "Python 3.8.5 64-bit ('base': conda)"
  },
  "language_info": {
   "name": "python",
   "version": "3.8.5",
   "mimetype": "text/x-python",
   "codemirror_mode": {
    "name": "ipython",
    "version": 3
   },
   "pygments_lexer": "ipython3",
   "nbconvert_exporter": "python",
   "file_extension": ".py"
  },
  "interpreter": {
   "hash": "b3ba2566441a7c06988d0923437866b63cedc61552a5af99d1f4fb67d367b25f"
  }
 },
 "nbformat": 4,
 "nbformat_minor": 2
}